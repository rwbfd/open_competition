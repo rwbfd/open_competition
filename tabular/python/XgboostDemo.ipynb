{
 "cells": [
  {
   "cell_type": "markdown",
   "metadata": {},
   "source": [
    "This is a demo for using XgBoost library. The reason why this is composed as a library instead of a script is because the interface is relatively simple, therefore it is easier to use as code snippets instead of a script. "
   ]
  },
  {
   "cell_type": "raw",
   "metadata": {},
   "source": [
    "Required the following libraries to run\n",
    "1. xgboost\n",
    "2. numpy (or pandas)\n"
   ]
  },
  {
   "cell_type": "code",
   "execution_count": 3,
   "metadata": {},
   "outputs": [],
   "source": [
    "import xgboost as xgb\n",
    "import numpy as np\n",
    "import pandas as pd\n",
    "from xgboost.sklearn import XGBClassifier\n",
    "from sklearn import metrics   \n",
    "from sklearn.model_selection import train_test_split\n",
    "from sklearn.model_selection import GridSearchCV   #Perforing grid search\n",
    "from sklearn.datasets import load_breast_cancer"
   ]
  },
  {
   "cell_type": "code",
   "execution_count": 4,
   "metadata": {},
   "outputs": [],
   "source": [
    "cancer=load_breast_cancer()\n",
    "X, y = cancer.data,cancer.target\n",
    "train_x, test_x, y_train, y_test=train_test_split(X,y,test_size=0.3,random_state=0)\n",
    " "
   ]
  },
  {
   "cell_type": "markdown",
   "metadata": {},
   "source": [
    "max_depth 和 min_weight 参数,它们对最终结果有很大的影响。首先，我们先大范围地粗调参数，然后再小范围地微调。 gamma参数调优 调整subsample 和 colsample_bytree 参数 正则化参数调优"
   ]
  },
  {
   "cell_type": "code",
   "execution_count": 5,
   "metadata": {},
   "outputs": [
    {
     "data": {
      "text/plain": [
       "XGBClassifier(base_score=0.5, booster='gbtree', colsample_bylevel=1,\n",
       "              colsample_bynode=1, colsample_bytree=1, gamma=0,\n",
       "              learning_rate=0.1, max_delta_step=0, max_depth=3,\n",
       "              min_child_weight=1, missing=None, n_estimators=100, n_jobs=1,\n",
       "              nthread=None, objective='binary:logistic', random_state=0,\n",
       "              reg_alpha=0, reg_lambda=1, scale_pos_weight=1, seed=None,\n",
       "              silent=None, subsample=1, verbosity=1)"
      ]
     },
     "execution_count": 5,
     "metadata": {},
     "output_type": "execute_result"
    }
   ],
   "source": [
    "params = {'max_depth': [4, 7, 10],\n",
    "          'min_child_weight' : [6,8,10,12],\n",
    "         'gamma': [0.1,0.4,0.9],\n",
    "          'subsample':[20/100,25/100,30/100],\n",
    "          'colsample_bytree':[40,50,60],\n",
    "         'reg_alpha': [1e-5, 1e-2, 0.1, 1, 100],\n",
    "         'reg_lambda':[1e-5, 1e-2, 0.1, 1, 100]}\n",
    "model = XGBClassifier()\n",
    "xgb_model = GridSearchCV(model, params, scoring=\"roc_auc\", cv = 5)\n",
    "model.fit(train_x, y_train)\n",
    "\n",
    "#xgb_model.grid_scores_, xgb_model.best_params_, xgb_model.best_score_"
   ]
  },
  {
   "cell_type": "code",
   "execution_count": 6,
   "metadata": {},
   "outputs": [
    {
     "name": "stdout",
     "output_type": "stream",
     "text": [
      "0.958994708994709\n"
     ]
    }
   ],
   "source": [
    "from sklearn.metrics import roc_auc_score\n",
    "\n",
    "y_pred = model.predict(test_x)\n",
    "print(roc_auc_score(y_test, y_pred))\n"
   ]
  },
  {
   "cell_type": "code",
   "execution_count": null,
   "metadata": {},
   "outputs": [],
   "source": []
  },
  {
   "cell_type": "code",
   "execution_count": 18,
   "metadata": {},
   "outputs": [],
   "source": [
    "bst.save_model('xgboost_model.model')"
   ]
  },
  {
   "cell_type": "code",
   "execution_count": null,
   "metadata": {},
   "outputs": [],
   "source": [
    "bst = xgb.Booster({'nthread':6})\n",
    "bst.load_model('xgboost_model.model')"
   ]
  }
 ],
 "metadata": {
  "kernelspec": {
   "display_name": "Python 3",
   "language": "python",
   "name": "python3"
  },
  "language_info": {
   "codemirror_mode": {
    "name": "ipython",
    "version": 3
   },
   "file_extension": ".py",
   "mimetype": "text/x-python",
   "name": "python",
   "nbconvert_exporter": "python",
   "pygments_lexer": "ipython3",
   "version": "3.7.3"
  }
 },
 "nbformat": 4,
 "nbformat_minor": 2
}
